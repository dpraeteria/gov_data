{
 "cells": [
  {
   "cell_type": "code",
   "execution_count": null,
   "metadata": {},
   "outputs": [],
   "source": [
    "import matplotlib.pyplot as plt\n",
    "import numpy as np\n",
    "import csv\n",
    "import datetime"
   ]
  },
  {
   "cell_type": "code",
   "execution_count": null,
   "metadata": {},
   "outputs": [],
   "source": [
    "f_w = open('AWS_data_weather.csv','rt',encoding='utf-8-sig')\n",
    "f_t = open('emergency_dispatch.csv','rt',encoding='utf-8')\n",
    "\n",
    "data_w = csv.reader(f_w)\n",
    "data_t = csv.reader(f_t)\n",
    "\n",
    "header_w = next(data_w)\n",
    "header_t = next(data_t)\n",
    "\n",
    "# print(header_w)\n",
    "\n",
    "wind_spd = []\n",
    "rain_mtr = []\n",
    "time_lst = []\n",
    "\n",
    "time = str(input(\"년-월-일을 입력하세요: \"))\n",
    "\n",
    "point = str(input(\"지점을 입력하세요: \"))\n",
    "for row in data_w:\n",
    "\n",
    "    if point in row[1] and time in row[2]:\n",
    "            # time_lst.append(row[2].split(\" \")[0])\n",
    "            time_lst.append(row[2])\n",
    "            wind_spd.append(float(f\"0{row[3]}\"))\n",
    "            rain_mtr.append(float(f\"0{row[4]}\"))\n",
    "            "
   ]
  },
  {
   "cell_type": "code",
   "execution_count": null,
   "metadata": {},
   "outputs": [],
   "source": [
    "print(time_lst)"
   ]
  },
  {
   "cell_type": "code",
   "execution_count": null,
   "metadata": {},
   "outputs": [],
   "source": [
    "print(wind_spd)\n",
    "plt.style.use('ggplot')\n",
    "plt.plot([i.split(\" \")[1].split(\":\")[0] for i in time_lst],wind_spd)\n",
    "plt.show()"
   ]
  },
  {
   "cell_type": "code",
   "execution_count": null,
   "metadata": {},
   "outputs": [],
   "source": [
    "print(rain_mtr)\n",
    "plt.style.use('ggplot')\n",
    "plt.plot([i.split(\" \")[1].split(\":\")[0] for i in time_lst],rain_mtr)\n",
    "plt.show()"
   ]
  },
  {
   "cell_type": "code",
   "execution_count": null,
   "metadata": {},
   "outputs": [],
   "source": [
    "for row in data_t:\n",
    "    if row[75] == '고속도로':\n",
    "        ##이거 고속도로 row만 다른 데이터에 추가해야함\n",
    "        ##기후데이터는 AWS 데이터 다른 시기도 추가로 다운하니 저거 교통사고 맞춰서 서로 어떤 상관관계에 있는지 코드 짜기"
   ]
  }
 ],
 "metadata": {
  "kernelspec": {
   "display_name": "Python 3",
   "language": "python",
   "name": "python3"
  },
  "language_info": {
   "codemirror_mode": {
    "name": "ipython",
    "version": 3
   },
   "file_extension": ".py",
   "mimetype": "text/x-python",
   "name": "python",
   "nbconvert_exporter": "python",
   "pygments_lexer": "ipython3",
   "version": "3.10.10"
  }
 },
 "nbformat": 4,
 "nbformat_minor": 2
}
