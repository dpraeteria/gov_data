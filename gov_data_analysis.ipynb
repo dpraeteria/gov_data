{
 "cells": [
  {
   "cell_type": "markdown",
   "metadata": {},
   "source": [
    "# 1. 데이터 로딩"
   ]
  },
  {
   "cell_type": "code",
   "execution_count": null,
   "metadata": {},
   "outputs": [],
   "source": [
    "# 패키지 로딩\n",
    "import pandas as pd  # 데이터 분석을 위한 라이브러리\n",
    "import matplotlib.pyplot as plt  # 시각화를 위한 라이브러리\n",
    "import seaborn as sns  # 시각화를 위한 라이브러리\n",
    "import numpy as np  # 다차원 배열을 위한 라이브러리\n",
    "import sys  # 파이썬 인터프리터를 제어할 수 있는 라이브러리\n",
    "\n",
    "from sklearn.model_selection import train_test_split\n",
    "# 학습 및 테스트 데이터들을 무작위로 분할\n",
    "\n",
    "from sklearn.ensemble import GradientBoostingRegressor # 모델을 위한 라이브러리\n",
    "from sklearn.preprocessing import LabelEncoder # 원-핫 인코딩을 위한 라이브러리"
   ]
  },
  {
   "cell_type": "code",
   "execution_count": null,
   "metadata": {},
   "outputs": [],
   "source": [
    "# 런셋 환경 설정\n",
    "# --------------------------------------------------------------------------\n",
    "# Python 메모리에 생성된 모듈 객체 사전(초기화)\n",
    "sys.stdout.flush()\n",
    "\n",
    "# 경고 메세지를 출력되지 않도록 합니다.\n",
    "import warnings\n",
    "warnings.filterwarnings(action=\"ignore\")\n",
    "\n",
    "#============================================================\n",
    "# 작업 디렉터리 경로 확인\n",
    "#============================================================\n",
    "import os\n",
    "\n",
    "currentPath = os.getcwd() # 현재 작지한 디렉터리 경로 확인\n",
    "print('Current working dir : %s' % currentPath)"
   ]
  },
  {
   "cell_type": "code",
   "execution_count": null,
   "metadata": {},
   "outputs": [],
   "source": [
    "# 데이터 로딩\n",
    "#============================================================\n",
    "# 데이터 읽어오기 \n",
    "#============================================================\n",
    "data_weather = pd.read_csv(\"weather.csv\")\n",
    "\n",
    "# 불러온 데이터 구조 확인하기\n",
    "data_weather.info()"
   ]
  },
  {
   "cell_type": "code",
   "execution_count": null,
   "metadata": {},
   "outputs": [],
   "source": [
    "# 도로기하 데이터\n",
    "data_road = pd.read_csv(\"road.csv\")\n",
    "\n",
    "# 불러온 데이터 구조 확인하기\n",
    "data_road.info()"
   ]
  },
  {
   "cell_type": "code",
   "execution_count": null,
   "metadata": {},
   "outputs": [],
   "source": [
    "#===========================================================\n",
    "# 교통류 데이터\n",
    "#===========================================================\n",
    "data_traf = pd.read_csv(\"traf.csv\")\n",
    "\n",
    "# 불러온 데이터 구조 확인하기\n",
    "data_traf.info()"
   ]
  },
  {
   "cell_type": "code",
   "execution_count": null,
   "metadata": {},
   "outputs": [],
   "source": []
  },
  {
   "cell_type": "code",
   "execution_count": null,
   "metadata": {},
   "outputs": [],
   "source": []
  },
  {
   "cell_type": "code",
   "execution_count": null,
   "metadata": {},
   "outputs": [],
   "source": []
  },
  {
   "cell_type": "code",
   "execution_count": null,
   "metadata": {},
   "outputs": [],
   "source": []
  },
  {
   "cell_type": "code",
   "execution_count": null,
   "metadata": {},
   "outputs": [],
   "source": []
  },
  {
   "cell_type": "code",
   "execution_count": null,
   "metadata": {},
   "outputs": [],
   "source": []
  },
  {
   "cell_type": "code",
   "execution_count": null,
   "metadata": {},
   "outputs": [],
   "source": []
  }
 ],
 "metadata": {
  "language_info": {
   "name": "python"
  }
 },
 "nbformat": 4,
 "nbformat_minor": 2
}
